{
 "cells": [
  {
   "cell_type": "code",
   "execution_count": 59,
   "metadata": {},
   "outputs": [
    {
     "name": "stdout",
     "output_type": "stream",
     "text": [
      "\n",
      "<DESCRIBE::>1 Kyu - Square Sums Local Env\n",
      "\n",
      "<IT::>Sample Testing\n",
      "\n",
      "<PASSED::>Test Passed\n",
      "\n",
      "<PASSED::>Test Passed\n",
      "\n",
      "<PASSED::>Test Passed\n",
      "\n",
      "<PASSED::>Test Passed\n",
      "\n",
      "<PASSED::>Test Passed\n",
      "\n",
      "<PASSED::>Test Passed\n",
      "\n",
      "<COMPLETEDIN::>110754.30\n",
      "\n",
      "<COMPLETEDIN::>110755.20\n"
     ]
    }
   ],
   "source": [
    "import time\n",
    "from algorithm_IDDFS import square_sums #Change 'algorithm_IDDFS' with the preferred algorithm (ASearch, DFS, HP).\n",
    "import codewars_test as test\n",
    "\n",
    "no_solutions = set(range(2, 25)) - {15, 16, 17, 23}\n",
    "\n",
    "def verify(n):\n",
    "    solution = square_sums(n)\n",
    "    \n",
    "    if not isinstance(solution, list) and n not in no_solutions:\n",
    "        raise TypeError(\"Solution must be a list!\")\n",
    "\n",
    "    if n in no_solutions and solution is not False:\n",
    "        test.expect(False, \"No solution for {}\".format(n))\n",
    "    elif n not in no_solutions:\n",
    "        if solution is False:\n",
    "            test.expect(False, \"Solution exists for {}\".format(n))\n",
    "        else:\n",
    "            missing = set(range(1, n + 1)) - set(solution)\n",
    "            test.assert_equals(missing, set(), \"missing numbers\")\n",
    "\n",
    "            square_validation = all([\n",
    "                (n + solution[e])**.5 % 1 == 0\n",
    "                for e, n in enumerate(solution[:-1], 1)\n",
    "            ])\n",
    "            test.assert_equals(square_validation, True, \"Subsequent numbers are not square!\")\n",
    "\n",
    "@test.describe(\"1 Kyu - Square Sums Local Env\")\n",
    "def _():\n",
    "    @test.it(\"Sample Testing\")\n",
    "    def _():\n",
    "        verify(7)\n",
    "        verify(17)\n",
    "        verify(27)\n",
    "        verify(37)"
   ]
  }
 ],
 "metadata": {
  "kernelspec": {
   "display_name": "Python 3.12.1 64-bit",
   "language": "python",
   "name": "python3"
  },
  "language_info": {
   "codemirror_mode": {
    "name": "ipython",
    "version": 3
   },
   "file_extension": ".py",
   "mimetype": "text/x-python",
   "name": "python",
   "nbconvert_exporter": "python",
   "pygments_lexer": "ipython3",
   "version": "3.12.1"
  },
  "orig_nbformat": 4,
  "vscode": {
   "interpreter": {
    "hash": "3fcbd7240ee8f908d933dc7f71e8c42a1a91163b70ede8dcff5146d4087436c7"
   }
  }
 },
 "nbformat": 4,
 "nbformat_minor": 2
}
